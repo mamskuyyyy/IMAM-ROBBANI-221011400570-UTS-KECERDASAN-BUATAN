{
 "cells": [
  {
   "cell_type": "code",
   "execution_count": 1,
   "id": "3f9e5bdc-a73e-48e2-bc81-bd211ad30d8d",
   "metadata": {},
   "outputs": [
    {
     "name": "stdout",
     "output_type": "stream",
     "text": [
      "[{'name': 'Company 3'}, {'name': 'Company 2'}, {'name': 'Company 1'}]\n"
     ]
    }
   ],
   "source": [
    "# Data\n",
    "\n",
    "company_detail_list = [\n",
    "      {\n",
    "          'name': 'Company 1',\n",
    "          'domain': 'Retail',\n",
    "          'country': 'United States'\n",
    "      },\n",
    "      {\n",
    "          'name': 'Company 2',\n",
    "          'domain': 'Technology',\n",
    "          'country': 'United Kingdom'\n",
    "      },\n",
    "      {\n",
    "          'name': 'Company 3',\n",
    "          'domain': 'Healthcare',\n",
    "          'country': 'United States'\n",
    "      }\n",
    "  ]\n",
    "\n",
    "employee_detail_list = [\n",
    "     {\n",
    "          'name': 'EMP-0001',\n",
    "          'first_name': 'John',\n",
    "          'last_name': 'Doe',\n",
    "          'full_name': 'John Doe',\n",
    "          'company': 'Company 1',\n",
    "          'nationality': 'Australia'\n",
    "      },\n",
    "      {\n",
    "          'name': 'EMP-0002',\n",
    "          'first_name': 'Tom',\n",
    "          'last_name': 'Smith',\n",
    "          'full_name': 'Tom Smith',\n",
    "          'company': 'Company 2',\n",
    "          'nationality': 'United States'\n",
    "      },\n",
    "      {\n",
    "          'name': 'EMP-0003',\n",
    "          'first_name': 'Andrew',\n",
    "          'last_name': 'Sebastian',\n",
    "          'full_name': 'Andrew Sebastian',\n",
    "          'company': 'Company 3',\n",
    "          'nationality': 'United States'\n",
    "      },\n",
    "      {\n",
    "          'name': 'EMP-0005',\n",
    "          'first_name': 'Ying Han',\n",
    "          'last_name': 'Tan',\n",
    "          'full_name': 'Ying Han Tan',\n",
    "          'company': 'Company 1',\n",
    "          'nationality': 'Australia'\n",
    "      },\n",
    "      {\n",
    "          'name': 'EMP-0015',\n",
    "          'first_name': 'Kenneth',\n",
    "          'last_name': 'Ng',\n",
    "          'full_name': 'Kenneth Ng',\n",
    "          'company': 'Company 3',\n",
    "          'nationality': 'United States'\n",
    "      },\n",
    "      {\n",
    "          'name': 'EMP-0018',\n",
    "          'first_name': 'Rubby',\n",
    "          'last_name': 'Lee',\n",
    "          'full_name': 'Rubby Lee',\n",
    "          'company': 'Company 2',\n",
    "          'nationality': 'Hong Kong'\n",
    "      },\n",
    "     {\n",
    "          'name': 'EMP-0017',\n",
    "          'first_name': 'Robert',\n",
    "          'last_name': 'White',\n",
    "          'full_name': 'Robert White',\n",
    "          'company': 'Company 1',\n",
    "          'nationality': 'United Kingdom'\n",
    "      }\n",
    "  ]\n",
    "\n",
    "# Tugas 1\n",
    "company_list = [{\"name\": company[\"name\"]} for company in sorted(company_detail_list, key=lambda x: x['name'], reverse=True)]\n",
    "print(company_list)"
   ]
  },
  {
   "cell_type": "code",
   "execution_count": 2,
   "id": "1f6a73ca-ce83-48c4-88b2-1ea379dd3812",
   "metadata": {},
   "outputs": [
    {
     "name": "stdout",
     "output_type": "stream",
     "text": [
      "Company 1: Retail (United States)\n",
      "Company 2: Technology (United Kingdom)\n",
      "Company 3: Healthcare (United States)\n"
     ]
    }
   ],
   "source": [
    "# Tugas 2\n",
    "for company in company_detail_list:\n",
    "    print(f\"{company['name']}: {company['domain']} ({company['country']})\")"
   ]
  },
  {
   "cell_type": "code",
   "execution_count": 3,
   "id": "ad98155f-eb2a-4a2e-bec1-5aefb94fd8d4",
   "metadata": {},
   "outputs": [
    {
     "name": "stdout",
     "output_type": "stream",
     "text": [
      "{'Retail': ['John Doe', 'Ying Han Tan', 'Robert White'], 'Technology': ['Tom Smith', 'Rubby Lee'], 'Healthcare': ['Andrew Sebastian', 'Kenneth Ng']}\n"
     ]
    }
   ],
   "source": [
    "# Tugas 3\n",
    "# Membuat pemetaan antara nama perusahaan dan domainnya\n",
    "domain_mapping = {company[\"name\"]: company[\"domain\"] for company in company_detail_list}\n",
    "\n",
    "# Mengelompokkan karyawan berdasarkan domain\n",
    "employees_by_domain = {}\n",
    "for employee in employee_detail_list:\n",
    "    domain = domain_mapping[employee[\"company\"]]\n",
    "    employees_by_domain.setdefault(domain, []).append(employee[\"full_name\"])\n",
    "\n",
    "print(employees_by_domain)"
   ]
  },
  {
   "cell_type": "code",
   "execution_count": 4,
   "id": "f566f72b-c6e5-4647-a9a5-b16724d5d361",
   "metadata": {},
   "outputs": [
    {
     "name": "stdout",
     "output_type": "stream",
     "text": [
      "[{'full_name': 'John Doe', 'company': 'Company 1', 'country': 'United States'}, {'full_name': 'Tom Smith', 'company': 'Company 2', 'country': 'United Kingdom'}, {'full_name': 'Andrew Sebastian', 'company': 'Company 3', 'country': 'United States'}, {'full_name': 'Ying Han Tan', 'company': 'Company 1', 'country': 'United States'}, {'full_name': 'Kenneth Ng', 'company': 'Company 3', 'country': 'United States'}, {'full_name': 'Rubby Lee', 'company': 'Company 2', 'country': 'United Kingdom'}, {'full_name': 'Robert White', 'company': 'Company 1', 'country': 'United States'}]\n"
     ]
    }
   ],
   "source": [
    "# Tugas 4\n",
    "def employees_with_company_country():\n",
    "    # Membuat pemetaan antara nama perusahaan dan negaranya\n",
    "    country_mapping = {company[\"name\"]: company[\"country\"] for company in company_detail_list}\n",
    "    \n",
    "    # Membuat daftar dengan rincian karyawan yang mencakup negara perusahaan\n",
    "    result = [\n",
    "        {\n",
    "            \"full_name\": employee[\"full_name\"],\n",
    "            \"company\": employee[\"company\"],\n",
    "            \"country\": country_mapping[employee[\"company\"]]\n",
    "        }\n",
    "        for employee in employee_detail_list\n",
    "    ]\n",
    "    return result\n",
    "\n",
    "print(employees_with_company_country())"
   ]
  },
  {
   "cell_type": "code",
   "execution_count": 5,
   "id": "b49f472a-5504-410e-94e9-de59c09a2f3c",
   "metadata": {},
   "outputs": [
    {
     "name": "stdout",
     "output_type": "stream",
     "text": [
      "[{'company': 'Company 1', 'employee_nationality': {'Australia': 2, 'United Kingdom': 1}}, {'company': 'Company 2', 'employee_nationality': {'United States': 1, 'Hong Kong': 1}}, {'company': 'Company 3', 'employee_nationality': {'United States': 2}}]\n"
     ]
    }
   ],
   "source": [
    "# Tugas 5\n",
    "from collections import Counter\n",
    "\n",
    "def companies_with_employee_nationalities():\n",
    "    # Inisialisasi hitungan kewarganegaraan untuk setiap perusahaan\n",
    "    nationality_count_by_company = {company[\"name\"]: Counter() for company in company_detail_list}\n",
    "    \n",
    "    # Menghitung kewarganegaraan per perusahaan\n",
    "    for employee in employee_detail_list:\n",
    "        nationality_count_by_company[employee[\"company\"]][employee[\"nationality\"]] += 1\n",
    "    \n",
    "    # Format hasil\n",
    "    result = [\n",
    "        {\n",
    "            \"company\": company,\n",
    "            \"employee_nationality\": dict(nationalities)\n",
    "        }\n",
    "        for company, nationalities in nationality_count_by_company.items()\n",
    "    ]\n",
    "    return result\n",
    "\n",
    "print(companies_with_employee_nationalities())"
   ]
  }
 ],
 "metadata": {
  "kernelspec": {
   "display_name": "Python 3 (ipykernel)",
   "language": "python",
   "name": "python3"
  },
  "language_info": {
   "codemirror_mode": {
    "name": "ipython",
    "version": 3
   },
   "file_extension": ".py",
   "mimetype": "text/x-python",
   "name": "python",
   "nbconvert_exporter": "python",
   "pygments_lexer": "ipython3",
   "version": "3.13.0"
  }
 },
 "nbformat": 4,
 "nbformat_minor": 5
}
